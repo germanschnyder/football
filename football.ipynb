{
 "cells": [
  {
   "cell_type": "code",
   "execution_count": null,
   "metadata": {
    "collapsed": false
   },
   "outputs": [],
   "source": [
    "from keras.models import Sequential\n",
    "from keras.layers import Dense, Dropout\n",
    "\n",
    "\n",
    "import numpy as np\n",
    "import json\n",
    "\n",
    "\n",
    "\n",
    "\n",
    "\n",
    "\n",
    "from sklearn.model_selection import train_test_split"
   ]
  },
  {
   "cell_type": "code",
   "execution_count": 37,
   "metadata": {
    "collapsed": false
   },
   "outputs": [
    {
     "name": "stdout",
     "output_type": "stream",
     "text": [
      "{'date': [['26/05/2016']], 'black': {'score': 4, 'players': [['Jaime'], ['Bomba'], ['Matias S'], ['Raul'], ['Guzman'], ['Marcos'], ['']], 'outcome': {'code': 'L', 'value': 0, 'name': 'Lose'}}, 'white': {'score': 6, 'players': [['German'], ['Joako'], ['Yoandry'], ['Scaramelli'], ['Pablo R'], ['Gastón'], ['']], 'outcome': {'code': 'W', 'value': 2, 'name': 'Win'}}}\n"
     ]
    }
   ],
   "source": [
    "print(data.pop())"
   ]
  },
  {
   "cell_type": "code",
   "execution_count": null,
   "metadata": {
    "collapsed": false
   },
   "outputs": [
    {
     "name": "stdout",
     "output_type": "stream",
     "text": [
      "[['12/07/2017']]\n",
      "[['05/07/2017']]\n",
      "[['14/06/2017']]\n",
      "[['07/06/2017']]\n",
      "[['24/05/2017']]\n",
      "[['17/05/2017']]\n",
      "[['10/05/2017']]\n",
      "[['03/05/2017']]\n",
      "[['19/04/2017']]\n",
      "[['05/04/2017']]\n",
      "[['29/03/2017']]\n",
      "[['22/03/2017']]\n",
      "[['15/03/2017']]\n",
      "[['08/03/2017']]\n",
      "[['22/02/2017']]\n",
      "[['15/02/2017']]\n",
      "[['08/02/2017']]\n",
      "[['01/02/2017']]\n",
      "[['25/01/2017']]\n",
      "[['18/01/2017']]\n",
      "[['16/01/2017']]\n",
      "[['11/01/2017']]\n",
      "[['04/01/2017']]\n",
      "[['28/12/2016']]\n",
      "[['21/12/2016']]\n",
      "[['14/12/2016']]\n",
      "[['07/12/2016']]\n",
      "[['30/11/2016']]\n",
      "[['23/11/2016']]\n",
      "[['16/11/2016']]\n",
      "[['09/11/2016']]\n",
      "[['02/11/2016']]\n",
      "[['26/10/2016']]\n",
      "[['19/10/2016']]\n",
      "[['12/10/2016']]\n",
      "[['05/10/2016']]\n",
      "[['28/9/2016']]\n",
      "[['21/9/2016']]\n",
      "[['14/9/2016']]\n",
      "[['7/9/2016']]\n",
      "[['31/8/2016']]\n",
      "[['24/8/2016']]\n",
      "[['17/8/2016']]\n",
      "[['10/8/2016']]\n",
      "[['27/7/2016']]\n",
      "[['19/7/2016']]\n",
      "[['13/7/2016']]\n",
      "[['7/7/2016']]\n",
      "[['29/6/2016']]\n",
      "[['22/6/2016']]\n",
      "[['8/6/2016']]\n",
      "[['1/6/2016']]\n"
     ]
    },
    {
     "data": {
      "text/plain": [
       "[None, None, None, None, None, None, None, None, None, None, None, None, None, None, None, None, None, None, None, None, None, None, None, None, None, None, None, None, None, None, None, None, None, None, None, None, None, None, None, None, None, None, None, None, None, None, None, None, None, None, None, None]"
      ]
     },
     "execution_count": 38,
     "metadata": {},
     "output_type": "execute_result"
    }
   ],
   "source": [
    "list(data)"
   ]
  },
  {
   "cell_type": "code",
   "execution_count": null,
   "metadata": {
    "collapsed": true
   },
   "outputs": [],
   "source": [
    ""
   ]
  }
 ],
 "metadata": {
  "anaconda-cloud": {},
  "kernelspec": {
   "display_name": "Python [Root]",
   "language": "python",
   "name": "Python [Root]"
  },
  "language_info": {
   "codemirror_mode": {
    "name": "ipython",
    "version": 3
   },
   "file_extension": ".py",
   "mimetype": "text/x-python",
   "name": "python",
   "nbconvert_exporter": "python",
   "pygments_lexer": "ipython3",
   "version": "3.5.2"
  }
 },
 "nbformat": 4,
 "nbformat_minor": 0
}
